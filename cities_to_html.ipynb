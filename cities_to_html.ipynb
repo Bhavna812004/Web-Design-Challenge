{
 "cells": [
  {
   "cell_type": "code",
   "execution_count": 4,
   "metadata": {},
   "outputs": [],
   "source": [
    "import pandas as pd\n",
    "\n",
    "# File to Load (Remember to Change These)\n",
    "cities_data = \"cities.csv\"\n",
    "\n",
    "# Read Data File and store into Pandas Data Frames\n",
    "cities = pd.read_csv(cities_data)\n",
    "\n",
    "# Export Cities Data as HTML\n",
    "html = cities.to_html()\n",
    "\n",
    "#write html to file\n",
    "text_file = open(\"cities.html\", \"w\")\n",
    "text_file.write(html)\n",
    "text_file.close()"
   ]
  }
 ],
 "metadata": {
  "kernelspec": {
   "display_name": "Python 3",
   "language": "python",
   "name": "python3"
  },
  "language_info": {
   "codemirror_mode": {
    "name": "ipython",
    "version": 3
   },
   "file_extension": ".py",
   "mimetype": "text/x-python",
   "name": "python",
   "nbconvert_exporter": "python",
   "pygments_lexer": "ipython3",
   "version": "3.7.4"
  }
 },
 "nbformat": 4,
 "nbformat_minor": 2
}
